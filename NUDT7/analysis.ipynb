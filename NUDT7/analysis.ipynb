{
 "cells": [
  {
   "cell_type": "code",
   "execution_count": null,
   "metadata": {
    "collapsed": true
   },
   "outputs": [],
   "source": [
    "import pandas as pd\n",
    "metadata = pd.read_pickle('metadata.p')"
   ]
  },
  {
   "cell_type": "code",
   "execution_count": null,
   "outputs": [],
   "source": [
    "NU181 = metadata.loc[metadata.title_name == 'NUOOA000181'].mol.values[0]\n",
    "PCM0102716 = metadata.loc[metadata.title_name == 'PCM-0102716'].mol.values[0]\n",
    "NU443 = metadata.loc[metadata.title_name == 'NU000443a'].mol.values[0]\n",
    "NU181.SetProp('_Name', 'NU181')\n",
    "PCM0102716.SetProp('_Name', 'PCM0102716')\n",
    "NU443.SetProp('_Name', 'NU443')"
   ],
   "metadata": {
    "collapsed": false,
    "pycharm": {
     "name": "#%%\n"
    }
   }
  },
  {
   "cell_type": "code",
   "execution_count": null,
   "outputs": [],
   "source": [
    "from fragmenstein import Victor, Igor\n",
    "from rdkit import Chem\n",
    "\n",
    "Igor.init_pyrosetta()\n",
    "\n",
    "from fragmenstein.monster import Unmerge\n",
    "Unmerge.max_strikes = 5  # not needed...\n",
    "\n",
    "#\n",
    "victor = Victor([NU181, PCM0102716, ], pdb_filename='template.pdb',\n",
    "                covalent_resi='73A', covalent_resn='CYS')\n",
    "#victor.monster.throw_on_discard = True # I know these are correct\n",
    "smiles = Chem.MolToSmiles(NU443)\n",
    "print(smiles)\n",
    "victor.place(smiles)\n",
    "print(victor.monster.unmatched)"
   ],
   "metadata": {
    "collapsed": false,
    "pycharm": {
     "name": "#%%\n"
    }
   }
  }
 ],
 "metadata": {
  "kernelspec": {
   "display_name": "Python 3 (ipykernel)",
   "language": "python",
   "name": "python3"
  },
  "language_info": {
   "codemirror_mode": {
    "name": "ipython",
    "version": 2
   },
   "file_extension": ".py",
   "mimetype": "text/x-python",
   "name": "python",
   "nbconvert_exporter": "python",
   "pygments_lexer": "ipython2",
   "version": "2.7.6"
  }
 },
 "nbformat": 4,
 "nbformat_minor": 0
}