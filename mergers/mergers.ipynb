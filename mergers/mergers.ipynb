{
 "cells": [
  {
   "cell_type": "markdown",
   "metadata": {
    "pycharm": {
     "name": "#%% md\n"
    }
   },
   "source": [
    "## Examples\n",
    "\n",
    "Monster stitches the compounds together, Igor minimizes a stitched together monster in the protein,\n",
    "and Victor coordinates the process. Laboratory parallelises Victor.\n",
    "\n",
    "Walton does not do anything in the process, but it does allow the testing of conditions\n",
    "(cpt. Walton is the narrator in the book).\n"
   ]
  },
  {
   "cell_type": "code",
   "execution_count": null,
   "metadata": {
    "collapsed": true,
    "jupyter": {
     "outputs_hidden": true
    }
   },
   "outputs": [],
   "source": [
    "## Move the benzene!\n",
    "import numpy as np\n",
    "from rdkit.Chem import Draw, AllChem\n",
    "from typing import *\n",
    "results: List[Chem.Mol] = []\n",
    "ori = Walton.from_smiles(bezene='c1ccccc1', furan='c1ccco1')\n",
    "ori.ring_on_plane(mol_idx=1)  # flat on xy\n",
    "ori.atom_on_axis(mol_idx=1, atom_idx=4, axis='x') # ox on axis\n",
    "ori.atom_on_axis(mol_idx=1,\n",
    "                 atom_idx=ori.get_centroid_of_atoms(1, 2, mol_idx=1),\n",
    "                axis='x')\n",
    "ori.superpose_by_map({(0,1):{0:0, 1:1, 2:2, 3:3}})\n",
    "ori.show3d()\n",
    "refs = [Chem.Mol(mol) for mol in ori.mols]\n",
    "for i in np.arange(start=-2, stop=6, step=0.5):\n",
    "    print(i)\n",
    "    demo = Walton([Chem.Mol(mol) for mol in refs], superposed=True)\n",
    "    #demo.translate_parallel(mol_idx=1, base_atom_idx=2, pointer_atom_idx=4, distance=i)\n",
    "    demo.translate_parallel(mol_idx=1, ref_mol_idx=0,\n",
    "                            base_atom_idx=2, pointer_atom_idx=4, distance=i)\n",
    "    demo()\n",
    "    demo.merged.SetProp('_Name', f'separation of {i:.1f}Ang')\n",
    "    results.append(AllChem.RemoveHs(demo.merged))\n",
    "    #demo.show3d()\n",
    "\n",
    "subresults = refs + results #[AllChem.RemoveHs(mol) for mol in ori.mols] + [results[i] for i in [0, 5, 7, 8, 9, 11]]\n",
    "Draw.MolsToGridImage(subresults,\n",
    "                     legends=[mol.GetProp('_Name') for mol in subresults],\n",
    "                     subImgSize=(150,150), useSVG=True,\n",
    "                     molsPerRow=5)"
   ]
  },
  {
   "cell_type": "code",
   "execution_count": null,
   "metadata": {
    "collapsed": false,
    "jupyter": {
     "outputs_hidden": false
    },
    "pycharm": {
     "name": "#%%\n"
    }
   },
   "outputs": [],
   "source": [
    "## ring collapse\n",
    "\n",
    "from fragmenstein import Monster, Walton\n",
    "from rdkit import Chem\n",
    "from rdkit.Chem import AllChem, Draw\n",
    "\n",
    "caffeine = Chem.MolFromSmiles('CN1C=NC2=C1C(=O)N(C(=O)N2C)C')\n",
    "AllChem.EmbedMolecule(caffeine)\n",
    "caffeine.SetProp('_Name', 'Caffeine')\n",
    "\n",
    "benzene = Chem.MolFromSmiles('c1ccccc1')\n",
    "AllChem.EmbedMolecule(benzene)\n",
    "benzene.SetProp('_Name', 'Benzene')\n",
    "\n",
    "toluene = Chem.MolFromSmiles('c1ccccc1(C)')\n",
    "AllChem.EmbedMolecule(toluene)\n",
    "toluene.SetProp('_Name', 'Toluene')\n",
    "\n",
    "demo = Walton([toluene, caffeine])\n",
    "demo.ring_on_plane(mol_idx=0, ring_idx=0, plane='xy')\n",
    "demo.ring_on_plane(mol_idx=1, ring_idx=0, plane='xy')\n",
    "demo.superpose_by_mcs()\n",
    "demo.translate_by_point(0, demo.get_centroid_of_ring(1, 1), -1)\n",
    "demo()\n",
    "\n",
    "Draw.MolsToGridImage([demo.monster.hits[0], demo.monster.hits[1], Chem.CombineMols(demo.monster.hits[0], demo.monster.hits[1]),\n",
    "                      demo.monster.modifications['Collapsed hits#0'], demo.monster.modifications['Collapsed hits#1'],\n",
    "                      Chem.CombineMols(demo.monster.modifications['Collapsed hits#0'], demo.monster.modifications['Collapsed hits#1']),\n",
    "                     demo.merged\n",
    "                     ],\n",
    "                     #legends=['Toluene', 'Caffine', 'Toluene collapsed', 'Caffine collapsed'],\n",
    "                     subImgSize=(150, 150),\n",
    "                     useSVG=True,\n",
    "                     molsPerRow=3)"
   ]
  }
 ],
 "metadata": {
  "kernelspec": {
   "display_name": "Python 3 (ipykernel)",
   "language": "python",
   "name": "python3"
  },
  "language_info": {
   "codemirror_mode": {
    "name": "ipython",
    "version": 3
   },
   "file_extension": ".py",
   "mimetype": "text/x-python",
   "name": "python",
   "nbconvert_exporter": "python",
   "pygments_lexer": "ipython3",
   "version": "3.10.8"
  }
 },
 "nbformat": 4,
 "nbformat_minor": 4
}
